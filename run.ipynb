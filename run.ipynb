{
 "cells": [
  {
   "cell_type": "code",
   "execution_count": 26,
   "metadata": {},
   "outputs": [],
   "source": [
    "from main import run_simulation"
   ]
  },
  {
   "cell_type": "code",
   "execution_count": 25,
   "metadata": {},
   "outputs": [
    {
     "name": "stdout",
     "output_type": "stream",
     "text": [
      "Customer handled: 383\n",
      "Impatient customers: 98\n"
     ]
    }
   ],
   "source": [
    "NUM_EMPLOYEES = 5\n",
    "AVG_SUPPORT_TIME = 5\n",
    "CUSTOMER_INTERVAL = 1 # every 3 Minutes a customer arrives\n",
    "SIM_TIME = 8 * 60\n",
    "PATIENCE = [1, 3]\n",
    "\n",
    "customer_handled, impatient_customers = run_simulation(num_employees=NUM_EMPLOYEES, \n",
    "                                                       avg_support_time=AVG_SUPPORT_TIME, \n",
    "                                                       customer_interval=CUSTOMER_INTERVAL,\n",
    "                                                       sim_time=SIM_TIME, patience=PATIENCE)\n",
    "\n",
    "print(f\"Customer handled: {customer_handled}\")\n",
    "print(f\"Impatient customers: {impatient_customers}\")"
   ]
  },
  {
   "cell_type": "code",
   "execution_count": 37,
   "metadata": {},
   "outputs": [
    {
     "name": "stdout",
     "output_type": "stream",
     "text": [
      "Average customer handled: 391.7\n",
      "Average impatient customers: 88.0\n"
     ]
    }
   ],
   "source": [
    "sum_handled_customers = []\n",
    "sum_impatient_customers = []\n",
    "\n",
    "\n",
    "for _ in range(20):\n",
    "    customer_handled, impatient_customers = run_simulation(num_employees=NUM_EMPLOYEES, \n",
    "                                                       avg_support_time=AVG_SUPPORT_TIME, \n",
    "                                                       customer_interval=CUSTOMER_INTERVAL,\n",
    "                                                       sim_time=SIM_TIME, patience=PATIENCE)\n",
    "    sum_handled_customers.append(customer_handled)\n",
    "    sum_impatient_customers.append(impatient_customers)\n",
    "    \n",
    "print(f\"Average customer handled: {sum(sum_handled_customers) / len(sum_handled_customers)}\")\n",
    "print(f\"Average impatient customers: {sum(sum_impatient_customers) / len(sum_impatient_customers)}\")"
   ]
  }
 ],
 "metadata": {
  "kernelspec": {
   "display_name": ".venv",
   "language": "python",
   "name": "python3"
  },
  "language_info": {
   "codemirror_mode": {
    "name": "ipython",
    "version": 3
   },
   "file_extension": ".py",
   "mimetype": "text/x-python",
   "name": "python",
   "nbconvert_exporter": "python",
   "pygments_lexer": "ipython3",
   "version": "3.9.12"
  }
 },
 "nbformat": 4,
 "nbformat_minor": 2
}
