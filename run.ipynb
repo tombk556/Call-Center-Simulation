{
 "cells": [
  {
   "cell_type": "code",
   "execution_count": 1,
   "metadata": {},
   "outputs": [],
   "source": [
    "from main import run_simulation"
   ]
  },
  {
   "cell_type": "code",
   "execution_count": 2,
   "metadata": {},
   "outputs": [
    {
     "name": "stdout",
     "output_type": "stream",
     "text": [
      "Customer handled: 35\n",
      "Impatient customers: 8\n"
     ]
    }
   ],
   "source": [
    "customer_handled, impatient_customers = run_simulation(num_employees=2, avg_support_time=5, customer_interval=3,\n",
    "                                                       sim_time=120, patience=[1, 3])\n",
    "\n",
    "print(f\"Customer handled: {customer_handled}\")\n",
    "print(f\"Impatient customers: {impatient_customers}\")"
   ]
  }
 ],
 "metadata": {
  "kernelspec": {
   "display_name": ".venv",
   "language": "python",
   "name": "python3"
  },
  "language_info": {
   "codemirror_mode": {
    "name": "ipython",
    "version": 3
   },
   "file_extension": ".py",
   "mimetype": "text/x-python",
   "name": "python",
   "nbconvert_exporter": "python",
   "pygments_lexer": "ipython3",
   "version": "3.9.12"
  }
 },
 "nbformat": 4,
 "nbformat_minor": 2
}
